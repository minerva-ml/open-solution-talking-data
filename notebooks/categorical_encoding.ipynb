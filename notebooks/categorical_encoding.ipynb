{
 "cells": [
  {
   "cell_type": "code",
   "execution_count": null,
   "metadata": {},
   "outputs": [],
   "source": [
    "%load_ext autoreload\n",
    "%autoreload 2\n",
    "\n",
    "import sys\n",
    "\n",
    "import category_encoders as ce\n",
    "import pandas as pd\n",
    "\n",
    "sys.path.append('../')\n",
    "from utils import read_csv_time_chunks\n",
    "from steps.base import BaseTransformer\n",
    "\n",
    "FILES_DIR = '/mnt/ml-team/minerva/talking_data/files/'\n",
    "\n",
    "CATEGORICAL_FEATURES = ['ip', 'app', 'device', 'os', 'channel']\n",
    "TARGET_COLUMN = ['is_attributed']"
   ]
  },
  {
   "cell_type": "code",
   "execution_count": null,
   "metadata": {},
   "outputs": [],
   "source": [
    "train = read_csv_time_chunks(FILES_DIR, days=[8],hours=[4])"
   ]
  },
  {
   "cell_type": "code",
   "execution_count": null,
   "metadata": {},
   "outputs": [],
   "source": [
    "train.head()"
   ]
  },
  {
   "cell_type": "code",
   "execution_count": null,
   "metadata": {},
   "outputs": [],
   "source": [
    "X = train[CATEGORICAL_FEATURES].sample(100000)\n",
    "y = train[TARGET_COLUMN].sample(100000)"
   ]
  },
  {
   "cell_type": "markdown",
   "metadata": {},
   "source": [
    "# Out of the box "
   ]
  },
  {
   "cell_type": "code",
   "execution_count": null,
   "metadata": {},
   "outputs": [],
   "source": [
    "%%time\n",
    "target_encoder = ce.TargetEncoder(cols=CATEGORICAL_FEATURES)\n",
    "target_encoder.fit(X, y.values.reshape(-1))\n",
    "X_ = target_encoder.transform(X)"
   ]
  },
  {
   "cell_type": "code",
   "execution_count": null,
   "metadata": {},
   "outputs": [],
   "source": [
    "X_.head()"
   ]
  },
  {
   "cell_type": "code",
   "execution_count": null,
   "metadata": {},
   "outputs": [],
   "source": [
    "binary_encoder = ce.binary.BinaryEncoder(cols=CATEGORICAL_FEATURES)\n",
    "binary_encoder.fit(X,y)\n",
    "X_ = binary_encoder.transform(X)"
   ]
  },
  {
   "cell_type": "code",
   "execution_count": null,
   "metadata": {},
   "outputs": [],
   "source": [
    "X_.head()"
   ]
  },
  {
   "cell_type": "code",
   "execution_count": null,
   "metadata": {},
   "outputs": [],
   "source": [
    "from sklearn.model_selection import KFold\n",
    "\n",
    "class TargetEncoderNSplits(BaseTransformer):\n",
    "    def __init__(self, n_splits, **kwargs):\n",
    "        self.k_folds = KFold(n_splits=n_splits)\n",
    "        self.target_means_map = {}\n",
    "        \n",
    "    def _target_means_names(self, columns):\n",
    "        confidence_rate_names = ['target_mean_{}'.format(column) for column in columns]\n",
    "        return confidence_rate_names\n",
    "\n",
    "    def _is_null_names(self, columns):\n",
    "        is_null_names = ['target_mean_is_nan_{}'.format(column) for column in columns]\n",
    "        return is_null_names\n",
    "        \n",
    "    def fit(self, categorical_features, target, **kwargs):\n",
    "        feature_columns, target_column = categorical_features.columns, target.columns[0]\n",
    "\n",
    "        X_target_means = []\n",
    "        self.k_folds.get_n_splits(target)\n",
    "        for train_index, test_index in self.k_folds.split(target):\n",
    "            X_train, y_train = categorical_features.iloc[train_index], target.iloc[train_index]\n",
    "            X_test, y_test = categorical_features.iloc[test_index], target.iloc[test_index]\n",
    "            \n",
    "            train = pd.concat([X_train, y_train], axis=1)\n",
    "            for column, target_mean_name in zip(feature_columns, self._target_means_names(feature_columns)):\n",
    "                group_object = train.groupby(column)\n",
    "                train_target_means = group_object[target_column].mean().\\\n",
    "                    reset_index().rename(index=str, columns={target_column: target_mean_name})\n",
    "                \n",
    "                X_test = X_test.merge(train_target_means, on=column, how='left')\n",
    "            X_target_means.append(X_test)\n",
    "        X_target_means = pd.concat(X_target_means, axis=0)\n",
    "        \n",
    "        for column, target_mean_name in zip(feature_columns, self._target_means_names(feature_columns)):\n",
    "            group_object = X_target_means.groupby(column)\n",
    "            self.target_means_map[column] = group_object[target_mean_name].mean().reset_index()\n",
    "        \n",
    "        return self\n",
    "    \n",
    "    def transform(self, categorical_features, **kwargs):\n",
    "        columns = categorical_features.columns\n",
    "        \n",
    "        for column, target_mean_name, is_null_name in zip(columns,\n",
    "                                                          self._target_means_names(columns),\n",
    "                                                          self._is_null_names(columns)):\n",
    "            \n",
    "            categorical_features = categorical_features.merge(self.target_means_map[column],\n",
    "                                                              on=column,\n",
    "                                                              how='left')\n",
    "            categorical_features[is_null_name] = pd.isnull(categorical_features[target_mean_name]).astype(int)\n",
    "            categorical_features[target_mean_name].fillna(0, inplace=True)\n",
    "        \n",
    "        return {'numerical_features': categorical_features[self._target_means_names(columns)],\n",
    "                'categorical_features': categorical_features[self._is_null_names(columns)]}\n",
    "\n",
    "    def load(self, filepath):\n",
    "        self.target_means_map = joblib.load(filepath)\n",
    "        return self\n",
    "\n",
    "    def save(self, filepath):\n",
    "        joblib.dump(self.target_means_map, filepath)"
   ]
  },
  {
   "cell_type": "code",
   "execution_count": null,
   "metadata": {
    "scrolled": true
   },
   "outputs": [],
   "source": [
    "%%time\n",
    "target_encoder = TargetEncoderNSplits(n_splits=10)\n",
    "target_encoder.fit_transform(categorical_features=X, target=y)\n",
    "X_ = target_encoder.transform(categorical_features=X)"
   ]
  },
  {
   "cell_type": "code",
   "execution_count": null,
   "metadata": {},
   "outputs": [],
   "source": [
    "X_['numerical_features'].describe()"
   ]
  },
  {
   "cell_type": "code",
   "execution_count": null,
   "metadata": {},
   "outputs": [],
   "source": []
  }
 ],
 "metadata": {
  "kernelspec": {
   "display_name": "cpu py3",
   "language": "python",
   "name": "cpu_py3"
  },
  "language_info": {
   "codemirror_mode": {
    "name": "ipython",
    "version": 3
   },
   "file_extension": ".py",
   "mimetype": "text/x-python",
   "name": "python",
   "nbconvert_exporter": "python",
   "pygments_lexer": "ipython3",
   "version": "3.5.2"
  }
 },
 "nbformat": 4,
 "nbformat_minor": 2
}
